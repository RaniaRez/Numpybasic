{
 "cells": [
  {
   "cell_type": "code",
   "execution_count": 2,
   "metadata": {
    "execution": {
     "iopub.execute_input": "2022-07-17T18:01:22.732877Z",
     "iopub.status.busy": "2022-07-17T18:01:22.732390Z",
     "iopub.status.idle": "2022-07-17T18:01:22.764677Z",
     "shell.execute_reply": "2022-07-17T18:01:22.763685Z",
     "shell.execute_reply.started": "2022-07-17T18:01:22.732776Z"
    },
    "id": "ae64CpcYgjKZ"
   },
   "outputs": [],
   "source": [
    "import numpy as np"
   ]
  },
  {
   "cell_type": "markdown",
   "metadata": {
    "id": "kOPiFCwmgjKe"
   },
   "source": [
    "# Vector"
   ]
  },
  {
   "cell_type": "code",
   "execution_count": 31,
   "metadata": {
    "colab": {
     "base_uri": "https://localhost:8080/"
    },
    "execution": {
     "iopub.execute_input": "2022-07-17T18:01:22.767267Z",
     "iopub.status.busy": "2022-07-17T18:01:22.766565Z",
     "iopub.status.idle": "2022-07-17T18:01:22.773874Z",
     "shell.execute_reply": "2022-07-17T18:01:22.772490Z",
     "shell.execute_reply.started": "2022-07-17T18:01:22.767230Z"
    },
    "id": "9k7yOhRLgjKg",
    "outputId": "632867da-9bc3-4ced-8d65-1be68612db73"
   },
   "outputs": [
    {
     "name": "stdout",
     "output_type": "stream",
     "text": [
      "[1. 2. 3.]\n",
      "(3,)\n",
      "3\n"
     ]
    }
   ],
   "source": [
    "a  = np.array( [1.0, 2.0, 3.0])\n",
    "print(a)\n",
    "print(a.shape)\n",
    "print(a.size)"
   ]
  },
  {
   "cell_type": "markdown",
   "metadata": {
    "id": "1OJTXEM_gjKg"
   },
   "source": [
    "# Vector norm"
   ]
  },
  {
   "cell_type": "code",
   "execution_count": 32,
   "metadata": {
    "colab": {
     "base_uri": "https://localhost:8080/"
    },
    "execution": {
     "iopub.execute_input": "2022-07-17T18:01:22.777013Z",
     "iopub.status.busy": "2022-07-17T18:01:22.775746Z",
     "iopub.status.idle": "2022-07-17T18:01:22.790737Z",
     "shell.execute_reply": "2022-07-17T18:01:22.789854Z",
     "shell.execute_reply.started": "2022-07-17T18:01:22.776941Z"
    },
    "id": "3CpgsNMMgjKh",
    "outputId": "74751f9d-587c-4192-aab0-66a0a4806c97"
   },
   "outputs": [
    {
     "name": "stdout",
     "output_type": "stream",
     "text": [
      "[ 1  2 -3 -4]\n",
      "10.0\n",
      "5.477225575051661\n"
     ]
    }
   ],
   "source": [
    "from numpy.linalg import norm\n",
    "# define vector\n",
    "a = np.array([1, 2, -3,-4])\n",
    "print(a)\n",
    "# calculate norm\n",
    "\n",
    "#sum of absolute values\n",
    "l1 = norm(a, 1)\n",
    "# the square root of the sum of the squared vector values.\n",
    "l2 = norm(a,2)\n",
    "\n",
    "l3 =norm(a,3)\n",
    "print(l1)\n",
    "print(l2)\n",
    "print(l3)"
   ]
  },
  {
   "cell_type": "code",
   "execution_count": 40,
   "metadata": {
    "colab": {
     "base_uri": "https://localhost:8080/"
    },
    "execution": {
     "iopub.execute_input": "2022-07-17T18:01:22.807881Z",
     "iopub.status.busy": "2022-07-17T18:01:22.807206Z",
     "iopub.status.idle": "2022-07-17T18:01:22.819019Z",
     "shell.execute_reply": "2022-07-17T18:01:22.818004Z",
     "shell.execute_reply.started": "2022-07-17T18:01:22.807841Z"
    },
    "id": "TGB39nTEgjKi",
    "outputId": "45e4fbc0-7a17-48a5-9710-56f4005d6254"
   },
   "outputs": [
    {
     "name": "stdout",
     "output_type": "stream",
     "text": [
      "[1 2 3]\n",
      "[1 2 3]\n",
      "\n",
      "\n",
      "14\n",
      "[-6  0  2]\n"
     ]
    }
   ],
   "source": [
    "a = np.array([1, 2, 3])\n",
    "print(a)\n",
    "\n",
    "# define second vector\n",
    "b = np.array([1, 2, 3])\n",
    "print(b)\n",
    "print('\\n')\n",
    "\n",
    "\n",
    "\n",
    "\n",
    "# multiply vectors\n",
    "c = a.dot(b)\n",
    "print(c)\n",
    "#new vector x\n",
    "x = np.array([1, 4, 3])\n",
    "\n",
    "d=np.cross(a,x)\n",
    "\n",
    "print(d)"
   ]
  },
  {
   "cell_type": "markdown",
   "metadata": {
    "id": "prNHIwb-gjKj"
   },
   "source": [
    "# Matrix"
   ]
  },
  {
   "cell_type": "code",
   "execution_count": 12,
   "metadata": {
    "colab": {
     "base_uri": "https://localhost:8080/"
    },
    "execution": {
     "iopub.execute_input": "2022-07-17T18:01:22.821295Z",
     "iopub.status.busy": "2022-07-17T18:01:22.820361Z",
     "iopub.status.idle": "2022-07-17T18:01:22.833669Z",
     "shell.execute_reply": "2022-07-17T18:01:22.832009Z",
     "shell.execute_reply.started": "2022-07-17T18:01:22.821258Z"
    },
    "id": "jSy3SgoEgjKj",
    "outputId": "ea9b9d7d-8261-4776-fe13-71e6c3c6a4c7"
   },
   "outputs": [
    {
     "name": "stdout",
     "output_type": "stream",
     "text": [
      "[[1 2 3]\n",
      " [4 5 6]]\n"
     ]
    }
   ],
   "source": [
    "A = np.array([[1, 2, 3], \n",
    "              [4, 5, 6]])\n",
    "print(A)\n"
   ]
  },
  {
   "cell_type": "code",
   "execution_count": 19,
   "metadata": {
    "colab": {
     "base_uri": "https://localhost:8080/"
    },
    "execution": {
     "iopub.execute_input": "2022-07-17T18:01:22.836142Z",
     "iopub.status.busy": "2022-07-17T18:01:22.835468Z",
     "iopub.status.idle": "2022-07-17T18:01:22.849674Z",
     "shell.execute_reply": "2022-07-17T18:01:22.848650Z",
     "shell.execute_reply.started": "2022-07-17T18:01:22.836096Z"
    },
    "id": "E6eXRmJUgjKk",
    "outputId": "1cc00703-4674-499d-bd20-e67727de2e5e"
   },
   "outputs": [
    {
     "name": "stdout",
     "output_type": "stream",
     "text": [
      "[[1 2 3]\n",
      " [4 5 6]]\n",
      "[[1 4 3]\n",
      " [4 5 6]]\n",
      "\n",
      "\n",
      "[[ 2  6  6]\n",
      " [ 8 10 12]]\n",
      "\n",
      "\n",
      "[[ 0 -2  0]\n",
      " [ 0  0  0]]\n"
     ]
    }
   ],
   "source": [
    "A = np.array([\n",
    "[1, 2, 3],\n",
    "[4, 5, 6]])\n",
    "print(A)\n",
    "# define second matrix\n",
    "B = np.array([\n",
    "[1, 4, 3],\n",
    "[4, 5, 6]])\n",
    "\n",
    "print(B)\n",
    "print('\\n')\n",
    "\n",
    "# add matrices\n",
    "C = A + B\n",
    "print(C)\n",
    "\n",
    "print('\\n')\n",
    "\n",
    "\n",
    "# subtract  matrices\n",
    "C = A - B\n",
    "print(C)\n",
    "\n"
   ]
  },
  {
   "cell_type": "markdown",
   "metadata": {
    "id": "jURYfsbmgjKl"
   },
   "source": [
    "# Element wise"
   ]
  },
  {
   "cell_type": "code",
   "execution_count": 39,
   "metadata": {
    "colab": {
     "base_uri": "https://localhost:8080/"
    },
    "execution": {
     "iopub.execute_input": "2022-07-17T18:01:22.852018Z",
     "iopub.status.busy": "2022-07-17T18:01:22.851362Z",
     "iopub.status.idle": "2022-07-17T18:01:22.865389Z",
     "shell.execute_reply": "2022-07-17T18:01:22.863963Z",
     "shell.execute_reply.started": "2022-07-17T18:01:22.851974Z"
    },
    "id": "n03dmYSkgjKm",
    "outputId": "23099504-3fea-4fca-c575-67283ff5d02f"
   },
   "outputs": [
    {
     "name": "stdout",
     "output_type": "stream",
     "text": [
      "[[ 15  30  45]\n",
      " [ 60  75  90]\n",
      " [105 120 135]]\n",
      "\n",
      "\n",
      "[[ 15  30  45]\n",
      " [ 60  75  90]\n",
      " [105 120 135]]\n",
      "[[ 15  30  45]\n",
      " [ 60  75  90]\n",
      " [105 120 135]]\n"
     ]
    }
   ],
   "source": [
    "print(A * B)\n",
    "print('\\n')\n",
    "type(A * B)\n",
    "print(np.multiply(A,B))\n",
    "print(np.multiply(A,B))\n"
   ]
  },
  {
   "cell_type": "code",
   "execution_count": 23,
   "metadata": {
    "colab": {
     "base_uri": "https://localhost:8080/"
    },
    "execution": {
     "iopub.execute_input": "2022-07-17T18:01:22.868152Z",
     "iopub.status.busy": "2022-07-17T18:01:22.867280Z",
     "iopub.status.idle": "2022-07-17T18:01:22.878242Z",
     "shell.execute_reply": "2022-07-17T18:01:22.876724Z",
     "shell.execute_reply.started": "2022-07-17T18:01:22.868116Z"
    },
    "id": "XHyu3xzCgjKm",
    "outputId": "8a1c8e36-7123-4c2c-90d2-9bd3db8fc815"
   },
   "outputs": [
    {
     "name": "stdout",
     "output_type": "stream",
     "text": [
      "[[1 2]\n",
      " [3 4]\n",
      " [5 6]]\n",
      "[[1 2]\n",
      " [3 4]]\n",
      "[[ 7 10]\n",
      " [15 22]\n",
      " [23 34]]\n",
      "[[ 7 10]\n",
      " [15 22]\n",
      " [23 34]]\n"
     ]
    }
   ],
   "source": [
    "A = np.array([\n",
    "[1, 2],\n",
    "[3, 4],\n",
    "[5, 6]])\n",
    "print(A)\n",
    "\n",
    "# define second matrix\n",
    "B = np.array([\n",
    "[1, 2],\n",
    "[3, 4]])\n",
    "print(B)\n",
    "\n",
    "# multiply matrices\n",
    "C = A.dot(B)\n",
    "print(C)\n",
    "# multiply matrices with @ operator\n",
    "D = A @ B\n",
    "print(D)"
   ]
  },
  {
   "cell_type": "markdown",
   "metadata": {
    "id": "8x8nMpMygjKn"
   },
   "source": [
    "# Matrix-Vector Multiplication"
   ]
  },
  {
   "cell_type": "code",
   "execution_count": 26,
   "metadata": {
    "colab": {
     "base_uri": "https://localhost:8080/"
    },
    "execution": {
     "iopub.execute_input": "2022-07-17T18:01:22.881614Z",
     "iopub.status.busy": "2022-07-17T18:01:22.880928Z",
     "iopub.status.idle": "2022-07-17T18:01:22.890130Z",
     "shell.execute_reply": "2022-07-17T18:01:22.888997Z",
     "shell.execute_reply.started": "2022-07-17T18:01:22.881575Z"
    },
    "id": "dCkqCTw6gjKn",
    "outputId": "f39a890c-425e-4987-f194-12c876fe2985"
   },
   "outputs": [
    {
     "name": "stdout",
     "output_type": "stream",
     "text": [
      "[[1 2]\n",
      " [3 4]\n",
      " [5 6]]\n",
      "\n",
      "\n",
      "[0.5 0.5]\n",
      "\n",
      "\n",
      "[1.5 3.5 5.5]\n"
     ]
    }
   ],
   "source": [
    "A = np.array([\n",
    "[1, 2],\n",
    "[3, 4],\n",
    "[5, 6]])\n",
    "print(A)\n",
    "print('\\n')\n",
    "\n",
    "# define vector\n",
    "B = np.array([0.5, 0.5])\n",
    "print(B)\n",
    "print('\\n')\n",
    "\n",
    "# multiply\n",
    "C = A.dot(B)\n",
    "print(C)\n"
   ]
  },
  {
   "cell_type": "code",
   "execution_count": 27,
   "metadata": {
    "colab": {
     "base_uri": "https://localhost:8080/"
    },
    "execution": {
     "iopub.execute_input": "2022-07-17T18:01:22.893363Z",
     "iopub.status.busy": "2022-07-17T18:01:22.891952Z",
     "iopub.status.idle": "2022-07-17T18:01:22.905288Z",
     "shell.execute_reply": "2022-07-17T18:01:22.904045Z",
     "shell.execute_reply.started": "2022-07-17T18:01:22.893319Z"
    },
    "id": "LdOG7zfZgjKn",
    "outputId": "4c09fd75-c952-4b31-8bb3-8438b1e79c76"
   },
   "outputs": [
    {
     "name": "stdout",
     "output_type": "stream",
     "text": [
      "[[1 2]\n",
      " [3 4]\n",
      " [5 6]]\n",
      "\n",
      "\n",
      "[[1 3 5]\n",
      " [2 4 6]]\n"
     ]
    }
   ],
   "source": [
    "from numpy import array\n",
    "# define matrix\n",
    "A = np.array([\n",
    "[1, 2],\n",
    "[3, 4],\n",
    "[5, 6]])\n",
    "print(A)\n",
    "print('\\n')\n",
    "\n",
    "# calculate transpose\n",
    "C = A.T\n",
    "print(C)"
   ]
  },
  {
   "cell_type": "code",
   "execution_count": 42,
   "metadata": {
    "colab": {
     "base_uri": "https://localhost:8080/"
    },
    "execution": {
     "iopub.execute_input": "2022-07-17T18:02:23.437363Z",
     "iopub.status.busy": "2022-07-17T18:02:23.436888Z",
     "iopub.status.idle": "2022-07-17T18:02:23.448255Z",
     "shell.execute_reply": "2022-07-17T18:02:23.446864Z",
     "shell.execute_reply.started": "2022-07-17T18:02:23.437331Z"
    },
    "id": "4ZiYssCcgjKo",
    "outputId": "bf90c5d3-28fa-4915-ef7e-d593a929e6c9"
   },
   "outputs": [
    {
     "name": "stdout",
     "output_type": "stream",
     "text": [
      "[[1. 2.]\n",
      " [3. 4.]]\n",
      "\n",
      "\n",
      "[[-2.   1. ]\n",
      " [ 1.5 -0.5]]\n",
      "\n",
      "\n",
      "[[1.0000000e+00 0.0000000e+00]\n",
      " [8.8817842e-16 1.0000000e+00]]\n",
      "\n",
      "\n",
      "-2.0000000000000004\n"
     ]
    }
   ],
   "source": [
    "from numpy.linalg import inv\n",
    "from numpy.linalg import det\n",
    "\n",
    "from numpy import linalg \n",
    "A = np.array([\n",
    "[1.0, 2.0],\n",
    "[3.0, 4.0]])\n",
    "print(A)\n",
    "print('\\n')\n",
    "\n",
    "# invert matrix\n",
    "B =linalg.inv(A)\n",
    "print(B)\n",
    "\n",
    "\n",
    "print('\\n')\n",
    "\n",
    "# multiply A and B\n",
    "I = A.dot(B)\n",
    "print(I)\n",
    "print('\\n')\n",
    "\n",
    "#printing det\n",
    "print(det(A))"
   ]
  },
  {
   "cell_type": "code",
   "execution_count": 30,
   "metadata": {
    "colab": {
     "base_uri": "https://localhost:8080/"
    },
    "execution": {
     "iopub.execute_input": "2022-07-17T18:01:22.924671Z",
     "iopub.status.busy": "2022-07-17T18:01:22.924099Z",
     "iopub.status.idle": "2022-07-17T18:01:22.933927Z",
     "shell.execute_reply": "2022-07-17T18:01:22.933086Z",
     "shell.execute_reply.started": "2022-07-17T18:01:22.924639Z"
    },
    "id": "cdTUHdSlgjKo",
    "outputId": "b578444d-9efb-4481-a93e-26dec8a0120a"
   },
   "outputs": [
    {
     "name": "stdout",
     "output_type": "stream",
     "text": [
      "[[1 2 3]\n",
      " [4 5 6]\n",
      " [7 8 9]]\n",
      "\n",
      "\n",
      "15\n"
     ]
    }
   ],
   "source": [
    "from numpy import trace\n",
    "\n",
    "\n",
    "\n",
    "# define matrix\n",
    "A = np.array([\n",
    "[1, 2, 3],\n",
    "[4, 5, 6],\n",
    "[7, 8, 9]])\n",
    "print(A)\n",
    "print('\\n')\n",
    "\n",
    "# calculate trace\n",
    "B = trace(A)\n",
    "print(B)\n"
   ]
  },
  {
   "cell_type": "markdown",
   "metadata": {
    "id": "_8OWJdElgjKo"
   },
   "source": [
    "# Differential Method"
   ]
  },
  {
   "cell_type": "markdown",
   "metadata": {
    "id": "1SIIRwragjKo"
   },
   "source": [
    "## one variable "
   ]
  },
  {
   "cell_type": "code",
   "execution_count": null,
   "metadata": {
    "execution": {
     "iopub.execute_input": "2022-07-17T18:09:39.289898Z",
     "iopub.status.busy": "2022-07-17T18:09:39.289455Z",
     "iopub.status.idle": "2022-07-17T18:09:39.378669Z",
     "shell.execute_reply": "2022-07-17T18:09:39.377283Z",
     "shell.execute_reply.started": "2022-07-17T18:09:39.289866Z"
    },
    "id": "ONPN3WVXgjKp"
   },
   "outputs": [],
   "source": [
    "import sympy as sp\n",
    "x = sp.Symbol('x')\n",
    "fx =  x**2020 + 3*x*x*x -1\n"
   ]
  },
  {
   "cell_type": "code",
   "execution_count": null,
   "metadata": {
    "execution": {
     "iopub.execute_input": "2022-07-17T18:09:51.896421Z",
     "iopub.status.busy": "2022-07-17T18:09:51.896011Z",
     "iopub.status.idle": "2022-07-17T18:09:52.213881Z",
     "shell.execute_reply": "2022-07-17T18:09:52.212900Z",
     "shell.execute_reply.started": "2022-07-17T18:09:51.896390Z"
    },
    "id": "JZAImG-sgjKp"
   },
   "outputs": [],
   "source": [
    "sp.diff(fx,x)"
   ]
  },
  {
   "cell_type": "code",
   "execution_count": null,
   "metadata": {
    "execution": {
     "iopub.execute_input": "2022-07-17T18:13:01.988195Z",
     "iopub.status.busy": "2022-07-17T18:13:01.986878Z",
     "iopub.status.idle": "2022-07-17T18:13:02.013221Z",
     "shell.execute_reply": "2022-07-17T18:13:02.012201Z",
     "shell.execute_reply.started": "2022-07-17T18:13:01.988134Z"
    },
    "id": "R8KHlofAgjKp"
   },
   "outputs": [],
   "source": [
    "x = sp.Symbol('x')\n",
    "gx = x/(x+1)\n",
    "sp.diff(gx,x)"
   ]
  },
  {
   "cell_type": "code",
   "execution_count": null,
   "metadata": {
    "execution": {
     "iopub.execute_input": "2022-07-17T18:14:02.386478Z",
     "iopub.status.busy": "2022-07-17T18:14:02.385251Z",
     "iopub.status.idle": "2022-07-17T18:14:02.430924Z",
     "shell.execute_reply": "2022-07-17T18:14:02.429862Z",
     "shell.execute_reply.started": "2022-07-17T18:14:02.386423Z"
    },
    "id": "o1iXENG_gjKq"
   },
   "outputs": [],
   "source": [
    "sp.simplify(sp.diff(gx,x))"
   ]
  },
  {
   "cell_type": "code",
   "execution_count": null,
   "metadata": {
    "execution": {
     "iopub.execute_input": "2022-07-17T18:16:06.547387Z",
     "iopub.status.busy": "2022-07-17T18:16:06.546897Z",
     "iopub.status.idle": "2022-07-17T18:16:06.571218Z",
     "shell.execute_reply": "2022-07-17T18:16:06.570009Z",
     "shell.execute_reply.started": "2022-07-17T18:16:06.547350Z"
    },
    "id": "3jEaNNLagjKq"
   },
   "outputs": [],
   "source": [
    "x= sp.simplify('x')\n",
    "fx = sp.exp(x)/x\n",
    "sp.diff(fx,x)"
   ]
  },
  {
   "cell_type": "code",
   "execution_count": null,
   "metadata": {
    "execution": {
     "iopub.execute_input": "2022-07-17T18:16:34.210156Z",
     "iopub.status.busy": "2022-07-17T18:16:34.209700Z",
     "iopub.status.idle": "2022-07-17T18:16:34.293637Z",
     "shell.execute_reply": "2022-07-17T18:16:34.292386Z",
     "shell.execute_reply.started": "2022-07-17T18:16:34.210122Z"
    },
    "id": "EImLnF4qgjKq"
   },
   "outputs": [],
   "source": [
    "sp.simplify(sp.diff(fx,x))"
   ]
  },
  {
   "cell_type": "code",
   "execution_count": null,
   "metadata": {
    "execution": {
     "iopub.execute_input": "2022-07-17T18:19:45.794213Z",
     "iopub.status.busy": "2022-07-17T18:19:45.793783Z",
     "iopub.status.idle": "2022-07-17T18:19:45.874302Z",
     "shell.execute_reply": "2022-07-17T18:19:45.873449Z",
     "shell.execute_reply.started": "2022-07-17T18:19:45.794179Z"
    },
    "id": "v9P61GqSgjKq"
   },
   "outputs": [],
   "source": [
    "x = sp.Symbol('x')\n",
    "gx = 3 *  sp.log(x,2) - x * sp.log(x)\n",
    "sp.simplify(sp.diff(gx,x))"
   ]
  },
  {
   "cell_type": "code",
   "execution_count": null,
   "metadata": {
    "execution": {
     "iopub.execute_input": "2022-07-17T18:21:47.013042Z",
     "iopub.status.busy": "2022-07-17T18:21:47.012606Z",
     "iopub.status.idle": "2022-07-17T18:21:47.035646Z",
     "shell.execute_reply": "2022-07-17T18:21:47.033945Z",
     "shell.execute_reply.started": "2022-07-17T18:21:47.012986Z"
    },
    "id": "3dJHE7xbgjKq"
   },
   "outputs": [],
   "source": [
    "x = sp.Symbol('x')\n",
    "fx = (x**2+2)**3\n",
    "sp.diff(fx,x)"
   ]
  },
  {
   "cell_type": "markdown",
   "metadata": {
    "id": "PghWM3_cgjKq"
   },
   "source": [
    "## two variables"
   ]
  },
  {
   "cell_type": "code",
   "execution_count": null,
   "metadata": {
    "execution": {
     "iopub.execute_input": "2022-07-17T18:26:09.331299Z",
     "iopub.status.busy": "2022-07-17T18:26:09.330684Z",
     "iopub.status.idle": "2022-07-17T18:26:09.345870Z",
     "shell.execute_reply": "2022-07-17T18:26:09.344963Z",
     "shell.execute_reply.started": "2022-07-17T18:26:09.331262Z"
    },
    "id": "rZs0fA9UgjKq"
   },
   "outputs": [],
   "source": [
    "x, y, z = sp.symbols('x y z')\n",
    "fx =  x**2020 + 3*y*y -6*z*z  \n",
    "fx"
   ]
  },
  {
   "cell_type": "code",
   "execution_count": null,
   "metadata": {
    "execution": {
     "iopub.execute_input": "2022-07-17T18:26:31.310146Z",
     "iopub.status.busy": "2022-07-17T18:26:31.309737Z",
     "iopub.status.idle": "2022-07-17T18:26:31.319081Z",
     "shell.execute_reply": "2022-07-17T18:26:31.317973Z",
     "shell.execute_reply.started": "2022-07-17T18:26:31.310116Z"
    },
    "id": "vUn92zXKgjKr"
   },
   "outputs": [],
   "source": [
    "# par rapport à x\n",
    "sp.diff(fx,x)"
   ]
  },
  {
   "cell_type": "code",
   "execution_count": null,
   "metadata": {
    "execution": {
     "iopub.execute_input": "2022-07-17T18:26:42.044589Z",
     "iopub.status.busy": "2022-07-17T18:26:42.044198Z",
     "iopub.status.idle": "2022-07-17T18:26:42.060465Z",
     "shell.execute_reply": "2022-07-17T18:26:42.059201Z",
     "shell.execute_reply.started": "2022-07-17T18:26:42.044559Z"
    },
    "id": "dMNeVK0ogjKr"
   },
   "outputs": [],
   "source": [
    "# par rapport à y\n",
    "sp.diff(fx,y)"
   ]
  },
  {
   "cell_type": "code",
   "execution_count": null,
   "metadata": {
    "execution": {
     "iopub.execute_input": "2022-07-17T18:26:51.034662Z",
     "iopub.status.busy": "2022-07-17T18:26:51.034215Z",
     "iopub.status.idle": "2022-07-17T18:26:51.052405Z",
     "shell.execute_reply": "2022-07-17T18:26:51.051199Z",
     "shell.execute_reply.started": "2022-07-17T18:26:51.034623Z"
    },
    "id": "87bRjg6NgjKr"
   },
   "outputs": [],
   "source": [
    "# par rapport à z\n",
    "sp.diff(fx,z)"
   ]
  }
 ],
 "metadata": {
  "colab": {
   "collapsed_sections": [
    "PghWM3_cgjKq"
   ],
   "name": "Math With Python",
   "provenance": []
  },
  "kernelspec": {
   "display_name": "Python 3 (ipykernel)",
   "language": "python",
   "name": "python3"
  },
  "language_info": {
   "codemirror_mode": {
    "name": "ipython",
    "version": 3
   },
   "file_extension": ".py",
   "mimetype": "text/x-python",
   "name": "python",
   "nbconvert_exporter": "python",
   "pygments_lexer": "ipython3",
   "version": "3.9.12"
  }
 },
 "nbformat": 4,
 "nbformat_minor": 4
}
