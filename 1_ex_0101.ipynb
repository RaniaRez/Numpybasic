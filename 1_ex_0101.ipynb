{
  "cells": [
    {
      "cell_type": "markdown",
      "metadata": {
        "id": "W2Q8o459JZxN"
      },
      "source": [
        "## Coding Exercise 0101"
      ]
    },
    {
      "cell_type": "markdown",
      "metadata": {
        "id": "JdWW6N7OJZxR"
      },
      "source": [
        "### 1. NumPy library:"
      ]
    },
    {
      "cell_type": "markdown",
      "metadata": {
        "id": "foP-4MgBJZxS"
      },
      "source": [
        "#### 1.1. NumPy basics:"
      ]
    },
    {
      "cell_type": "code",
      "execution_count": null,
      "metadata": {
        "colab": {
          "base_uri": "https://localhost:8080/",
          "height": 35
        },
        "id": "jtZ6CNhgJZxT",
        "outputId": "ab629032-4225-4d6f-e2c4-05a5e24bfdbc"
      },
      "outputs": [
        {
          "output_type": "execute_result",
          "data": {
            "text/plain": [
              "'1.21.6'"
            ],
            "application/vnd.google.colaboratory.intrinsic+json": {
              "type": "string"
            }
          },
          "metadata": {},
          "execution_count": 1
        }
      ],
      "source": [
        "import numpy as np\n",
        "np.__version__"
      ]
    },
    {
      "cell_type": "code",
      "execution_count": null,
      "metadata": {
        "colab": {
          "base_uri": "https://localhost:8080/"
        },
        "id": "z-VPoDk3JZxV",
        "outputId": "411d71cd-65ea-4bf6-f8ad-479cbfcfb6e3"
      },
      "outputs": [
        {
          "output_type": "execute_result",
          "data": {
            "text/plain": [
              "numpy.ndarray"
            ]
          },
          "metadata": {},
          "execution_count": 2
        }
      ],
      "source": [
        "arr1 = np.array([1,3,5,7,9])\n",
        "arr2 = np.array((1,3,5,7,9))\n",
        "type(arr1)"
      ]
    },
    {
      "cell_type": "code",
      "execution_count": null,
      "metadata": {
        "id": "SmFdF5lTJZxW"
      },
      "outputs": [],
      "source": [
        "arr3 = arr1"
      ]
    },
    {
      "cell_type": "code",
      "execution_count": null,
      "metadata": {
        "colab": {
          "base_uri": "https://localhost:8080/"
        },
        "id": "KG2HsFr4JZxW",
        "outputId": "20278483-35cc-4771-8afe-b18105a18693"
      },
      "outputs": [
        {
          "output_type": "execute_result",
          "data": {
            "text/plain": [
              "140540433505232"
            ]
          },
          "metadata": {},
          "execution_count": 4
        }
      ],
      "source": [
        "id(arr1)"
      ]
    },
    {
      "cell_type": "code",
      "execution_count": null,
      "metadata": {
        "colab": {
          "base_uri": "https://localhost:8080/"
        },
        "id": "eRQBhIX_JZxX",
        "outputId": "379dea9e-0129-4434-8ed5-e0201e7cb7bc"
      },
      "outputs": [
        {
          "output_type": "execute_result",
          "data": {
            "text/plain": [
              "140540433505232"
            ]
          },
          "metadata": {},
          "execution_count": 5
        }
      ],
      "source": [
        "id(arr3)"
      ]
    },
    {
      "cell_type": "code",
      "execution_count": null,
      "metadata": {
        "id": "ZOBbOhBKJZxX"
      },
      "outputs": [],
      "source": [
        "arr4 = arr1.copy()"
      ]
    },
    {
      "cell_type": "code",
      "execution_count": null,
      "metadata": {
        "colab": {
          "base_uri": "https://localhost:8080/"
        },
        "id": "X_NArIwZJZxY",
        "outputId": "cb2c00ac-94f8-4fc9-cd16-c5d97e853c93"
      },
      "outputs": [
        {
          "output_type": "execute_result",
          "data": {
            "text/plain": [
              "140540433615056"
            ]
          },
          "metadata": {},
          "execution_count": 7
        }
      ],
      "source": [
        "id(arr4)"
      ]
    },
    {
      "cell_type": "markdown",
      "metadata": {
        "id": "M03gbomjJZxY"
      },
      "source": [
        "#### 1.2. Creating NumPy arrays:"
      ]
    },
    {
      "cell_type": "markdown",
      "metadata": {
        "id": "-XTttK7BJZxY"
      },
      "source": [
        "numpy.arange() function:"
      ]
    },
    {
      "cell_type": "code",
      "execution_count": null,
      "metadata": {
        "colab": {
          "base_uri": "https://localhost:8080/"
        },
        "id": "bISYd6GMJZxZ",
        "outputId": "f710ae2e-424b-421d-c7a9-2fa4c5c0a5d6"
      },
      "outputs": [
        {
          "output_type": "execute_result",
          "data": {
            "text/plain": [
              "array([0, 1, 2, 3, 4, 5, 6, 7, 8, 9])"
            ]
          },
          "metadata": {},
          "execution_count": 8
        }
      ],
      "source": [
        "np.arange(10)"
      ]
    },
    {
      "cell_type": "code",
      "execution_count": null,
      "metadata": {
        "colab": {
          "base_uri": "https://localhost:8080/"
        },
        "id": "cTLqindaJZxZ",
        "outputId": "ecd76383-606e-426c-cc61-0a5bb1d57662"
      },
      "outputs": [
        {
          "output_type": "execute_result",
          "data": {
            "text/plain": [
              "array([10, 11, 12, 13, 14, 15, 16, 17, 18, 19])"
            ]
          },
          "metadata": {},
          "execution_count": 9
        }
      ],
      "source": [
        "np.arange(10,20)"
      ]
    },
    {
      "cell_type": "code",
      "execution_count": null,
      "metadata": {
        "colab": {
          "base_uri": "https://localhost:8080/"
        },
        "id": "WlwGUJ1rJZxZ",
        "outputId": "20f9e25a-f1ff-4440-c018-f0892092eebb"
      },
      "outputs": [
        {
          "output_type": "execute_result",
          "data": {
            "text/plain": [
              "array([10, 13, 16, 19])"
            ]
          },
          "metadata": {},
          "execution_count": 10
        }
      ],
      "source": [
        "np.arange(10, 20, 3)"
      ]
    },
    {
      "cell_type": "code",
      "execution_count": null,
      "metadata": {
        "id": "Q6L5tYeaJZxZ"
      },
      "outputs": [],
      "source": [
        "arr = np.arange(10) "
      ]
    },
    {
      "cell_type": "code",
      "execution_count": null,
      "metadata": {
        "colab": {
          "base_uri": "https://localhost:8080/"
        },
        "id": "d8_2AwzHJZxa",
        "outputId": "50c5e19b-042a-40b8-fb92-519138a39197"
      },
      "outputs": [
        {
          "output_type": "execute_result",
          "data": {
            "text/plain": [
              "10"
            ]
          },
          "metadata": {},
          "execution_count": 12
        }
      ],
      "source": [
        "len(arr)#how many items are there"
      ]
    },
    {
      "cell_type": "code",
      "execution_count": null,
      "metadata": {
        "colab": {
          "base_uri": "https://localhost:8080/"
        },
        "id": "VJ_aMJutJZxa",
        "outputId": "0fd7220f-0be7-4be5-b1ef-92d0c0dca9af"
      },
      "outputs": [
        {
          "output_type": "execute_result",
          "data": {
            "text/plain": [
              "10"
            ]
          },
          "metadata": {},
          "execution_count": 13
        }
      ],
      "source": [
        "arr.size #same as len"
      ]
    },
    {
      "cell_type": "markdown",
      "metadata": {
        "id": "37h8Rgn6JZxa"
      },
      "source": [
        "numpy.linspace() function:"
      ]
    },
    {
      "cell_type": "code",
      "execution_count": null,
      "metadata": {
        "colab": {
          "base_uri": "https://localhost:8080/"
        },
        "id": "gXYBDoJDJZxa",
        "outputId": "8165668b-4112-4bee-a9cd-7404fd301b74"
      },
      "outputs": [
        {
          "output_type": "execute_result",
          "data": {
            "text/plain": [
              "array([ 1.  ,  3.25,  5.5 ,  7.75, 10.  ])"
            ]
          },
          "metadata": {},
          "execution_count": 14
        }
      ],
      "source": [
        "np.linspace(1, 10, 5)"
      ]
    },
    {
      "cell_type": "code",
      "execution_count": null,
      "metadata": {
        "colab": {
          "base_uri": "https://localhost:8080/"
        },
        "id": "lTy_u626JZxa",
        "outputId": "b3d9cd19-544a-4e38-f09e-d64040cc7daf"
      },
      "outputs": [
        {
          "output_type": "execute_result",
          "data": {
            "text/plain": [
              "tuple"
            ]
          },
          "metadata": {},
          "execution_count": 15
        }
      ],
      "source": [
        "arr = np.linspace(0, 10, 5, retstep=True)\n",
        "type(arr)"
      ]
    },
    {
      "cell_type": "code",
      "execution_count": null,
      "metadata": {
        "colab": {
          "base_uri": "https://localhost:8080/"
        },
        "id": "S92htMw-JZxb",
        "outputId": "a487e0f5-54e5-47a5-a28c-cc08ac990818"
      },
      "outputs": [
        {
          "output_type": "execute_result",
          "data": {
            "text/plain": [
              "array([ 0. ,  2.5,  5. ,  7.5, 10. ])"
            ]
          },
          "metadata": {},
          "execution_count": 16
        }
      ],
      "source": [
        "arr[0]"
      ]
    },
    {
      "cell_type": "code",
      "execution_count": null,
      "metadata": {
        "colab": {
          "base_uri": "https://localhost:8080/"
        },
        "id": "LvEr4g3RJZxb",
        "outputId": "50980225-6323-4c5f-ee3b-9586e859c6bb"
      },
      "outputs": [
        {
          "output_type": "execute_result",
          "data": {
            "text/plain": [
              "2.5"
            ]
          },
          "metadata": {},
          "execution_count": 17
        }
      ],
      "source": [
        "arr[1]"
      ]
    },
    {
      "cell_type": "markdown",
      "metadata": {
        "id": "RnzmNIxaJZxb"
      },
      "source": [
        "numpy.zeros() and numpy.ones() functions:"
      ]
    },
    {
      "cell_type": "code",
      "execution_count": null,
      "metadata": {
        "colab": {
          "base_uri": "https://localhost:8080/"
        },
        "id": "ucFdRvdyJZxb",
        "outputId": "4d2c7dd4-d8d7-42c1-f784-2942abfa2166"
      },
      "outputs": [
        {
          "output_type": "execute_result",
          "data": {
            "text/plain": [
              "array([0., 0., 0., 0., 0., 0., 0., 0., 0., 0.])"
            ]
          },
          "metadata": {},
          "execution_count": 18
        }
      ],
      "source": [
        "np.zeros(10)"
      ]
    },
    {
      "cell_type": "code",
      "execution_count": null,
      "metadata": {
        "colab": {
          "base_uri": "https://localhost:8080/"
        },
        "id": "kAZ3QEPwJZxb",
        "outputId": "f01164eb-6569-479f-cc70-cd6d03460b41"
      },
      "outputs": [
        {
          "output_type": "execute_result",
          "data": {
            "text/plain": [
              "array([[0., 0., 0., 0.],\n",
              "       [0., 0., 0., 0.],\n",
              "       [0., 0., 0., 0.]])"
            ]
          },
          "metadata": {},
          "execution_count": 19
        }
      ],
      "source": [
        "np.zeros((3,4))"
      ]
    },
    {
      "cell_type": "code",
      "execution_count": null,
      "metadata": {
        "colab": {
          "base_uri": "https://localhost:8080/"
        },
        "id": "H5iJRkYmJZxb",
        "outputId": "c6dab20e-c315-4ce3-9307-15e4d387d7ff"
      },
      "outputs": [
        {
          "output_type": "execute_result",
          "data": {
            "text/plain": [
              "array([0, 0, 0, 0, 0])"
            ]
          },
          "metadata": {},
          "execution_count": 20
        }
      ],
      "source": [
        "np.zeros(5, dtype ='int64')"
      ]
    },
    {
      "cell_type": "code",
      "execution_count": null,
      "metadata": {
        "colab": {
          "base_uri": "https://localhost:8080/"
        },
        "id": "3TiNi5CcJZxc",
        "outputId": "1e1abbec-ce41-4fb2-e1f3-10cec518f787"
      },
      "outputs": [
        {
          "output_type": "execute_result",
          "data": {
            "text/plain": [
              "dtype('int64')"
            ]
          },
          "metadata": {},
          "execution_count": 21
        }
      ],
      "source": [
        "np.zeros(5, dtype ='int64').dtype"
      ]
    },
    {
      "cell_type": "code",
      "execution_count": null,
      "metadata": {
        "id": "ep1074mtJZxc"
      },
      "outputs": [],
      "source": [
        "arr = np.ones((2,3), dtype ='int_')"
      ]
    },
    {
      "cell_type": "code",
      "execution_count": null,
      "metadata": {
        "colab": {
          "base_uri": "https://localhost:8080/"
        },
        "id": "8BUuWm4uJZxc",
        "outputId": "29e6d464-4ade-4efa-92bd-f3160c93408f"
      },
      "outputs": [
        {
          "output_type": "execute_result",
          "data": {
            "text/plain": [
              "array([[1, 1, 1],\n",
              "       [1, 1, 1]])"
            ]
          },
          "metadata": {},
          "execution_count": 23
        }
      ],
      "source": [
        "arr"
      ]
    },
    {
      "cell_type": "code",
      "execution_count": null,
      "metadata": {
        "colab": {
          "base_uri": "https://localhost:8080/"
        },
        "id": "wONc5Jd8JZxc",
        "outputId": "a5f206ba-474e-4867-d4f4-67d16011bfcf"
      },
      "outputs": [
        {
          "output_type": "execute_result",
          "data": {
            "text/plain": [
              "dtype('int64')"
            ]
          },
          "metadata": {},
          "execution_count": 24
        }
      ],
      "source": [
        "arr.dtype"
      ]
    },
    {
      "cell_type": "code",
      "execution_count": null,
      "metadata": {
        "colab": {
          "base_uri": "https://localhost:8080/"
        },
        "id": "6XB8h4DvJZxc",
        "outputId": "dac5c1d7-5c1f-46cc-b978-5f8cd3973d3d"
      },
      "outputs": [
        {
          "output_type": "execute_result",
          "data": {
            "text/plain": [
              "array([[1., 1., 1.],\n",
              "       [1., 1., 1.]], dtype=float32)"
            ]
          },
          "metadata": {},
          "execution_count": 25
        }
      ],
      "source": [
        "arr.astype('float32')"
      ]
    },
    {
      "cell_type": "markdown",
      "metadata": {
        "id": "ArkwoccyJZxc"
      },
      "source": [
        "Data type:"
      ]
    },
    {
      "cell_type": "code",
      "execution_count": null,
      "metadata": {
        "colab": {
          "base_uri": "https://localhost:8080/"
        },
        "id": "by1THJNEJZxc",
        "outputId": "ae696169-1c24-4eb8-d9e5-c3dd0257ca1a"
      },
      "outputs": [
        {
          "output_type": "execute_result",
          "data": {
            "text/plain": [
              "array([111. ,   2.3,   1. ,   0. ,   0. ])"
            ]
          },
          "metadata": {},
          "execution_count": 26
        }
      ],
      "source": [
        "arr1 = np.array([111, 2.3,  True, False, False]) \n",
        "arr1"
      ]
    },
    {
      "cell_type": "code",
      "execution_count": null,
      "metadata": {
        "colab": {
          "base_uri": "https://localhost:8080/"
        },
        "id": "9ZuVcHeUJZxd",
        "outputId": "36893d0e-c256-4e39-9afd-2d3150bcf310"
      },
      "outputs": [
        {
          "output_type": "execute_result",
          "data": {
            "text/plain": [
              "array(['111', '2.3', 'python', 'abc'], dtype='<U32')"
            ]
          },
          "metadata": {},
          "execution_count": 27
        }
      ],
      "source": [
        "arr2 = np.array([111, 2.3, 'python', 'abc']) \n",
        "arr2"
      ]
    },
    {
      "cell_type": "code",
      "execution_count": null,
      "metadata": {
        "colab": {
          "base_uri": "https://localhost:8080/"
        },
        "id": "_kfAhjzwJZxd",
        "outputId": "f1dadc0f-d486-4557-ea08-404a61df5546"
      },
      "outputs": [
        {
          "output_type": "execute_result",
          "data": {
            "text/plain": [
              "array(['111', 'True', 'abc'], dtype='<U21')"
            ]
          },
          "metadata": {},
          "execution_count": 28
        }
      ],
      "source": [
        "arr3 = np.array([111, True, 'abc']) \n",
        "arr3"
      ]
    },
    {
      "cell_type": "markdown",
      "metadata": {
        "id": "MB69FkpfJZxd"
      },
      "source": [
        "#### 1.3. Indexing and slicing NumPy arrays:"
      ]
    },
    {
      "cell_type": "code",
      "execution_count": null,
      "metadata": {
        "colab": {
          "base_uri": "https://localhost:8080/"
        },
        "id": "21rdIarIJZxd",
        "outputId": "59df911b-acec-4beb-948b-70f529d8b872"
      },
      "outputs": [
        {
          "output_type": "execute_result",
          "data": {
            "text/plain": [
              "3"
            ]
          },
          "metadata": {},
          "execution_count": 29
        }
      ],
      "source": [
        "a = np.array([1, 2, 3, 4, 5])\n",
        "a[2]"
      ]
    },
    {
      "cell_type": "code",
      "execution_count": null,
      "metadata": {
        "colab": {
          "base_uri": "https://localhost:8080/"
        },
        "id": "NYJWYVzhJZxd",
        "outputId": "772b8f45-ed47-4d94-a553-36aa80084b34"
      },
      "outputs": [
        {
          "output_type": "execute_result",
          "data": {
            "text/plain": [
              "5"
            ]
          },
          "metadata": {},
          "execution_count": 30
        }
      ],
      "source": [
        "a[-1]"
      ]
    },
    {
      "cell_type": "code",
      "execution_count": null,
      "metadata": {
        "colab": {
          "base_uri": "https://localhost:8080/"
        },
        "id": "ybdt35RWJZxd",
        "outputId": "e7f7fc84-86b3-4b01-9fd1-b0e924a65705"
      },
      "outputs": [
        {
          "output_type": "execute_result",
          "data": {
            "text/plain": [
              "array([1, 2, 3, 4, 5])"
            ]
          },
          "metadata": {},
          "execution_count": 31
        }
      ],
      "source": [
        "a[:]"
      ]
    },
    {
      "cell_type": "code",
      "execution_count": null,
      "metadata": {
        "colab": {
          "base_uri": "https://localhost:8080/"
        },
        "id": "ngeI2rhuJZxd",
        "outputId": "5c38e2a8-ec00-42c5-8e4d-8c554b87833c"
      },
      "outputs": [
        {
          "output_type": "execute_result",
          "data": {
            "text/plain": [
              "array([[1, 2, 3],\n",
              "       [4, 5, 6],\n",
              "       [7, 8, 9]])"
            ]
          },
          "metadata": {},
          "execution_count": 32
        }
      ],
      "source": [
        "a = np.array([[1, 2, 3,], [4, 5, 6], [7, 8, 9]])\n",
        "a"
      ]
    },
    {
      "cell_type": "code",
      "execution_count": null,
      "metadata": {
        "colab": {
          "base_uri": "https://localhost:8080/"
        },
        "id": "XG57dncnJZxe",
        "outputId": "0f6da51e-ec55-4aa7-a641-3e7ffb36d9da"
      },
      "outputs": [
        {
          "output_type": "execute_result",
          "data": {
            "text/plain": [
              "array([4, 5, 6])"
            ]
          },
          "metadata": {},
          "execution_count": 33
        }
      ],
      "source": [
        "a[1]"
      ]
    },
    {
      "cell_type": "code",
      "execution_count": null,
      "metadata": {
        "colab": {
          "base_uri": "https://localhost:8080/"
        },
        "id": "ev7W-jsHJZxe",
        "outputId": "7f7900f7-f24d-49c6-8191-d36cc762b107"
      },
      "outputs": [
        {
          "output_type": "execute_result",
          "data": {
            "text/plain": [
              "array([7, 8, 9])"
            ]
          },
          "metadata": {},
          "execution_count": 34
        }
      ],
      "source": [
        "a[-1]"
      ]
    },
    {
      "cell_type": "code",
      "execution_count": null,
      "metadata": {
        "colab": {
          "base_uri": "https://localhost:8080/"
        },
        "id": "-QIF2UIEJZxe",
        "outputId": "794577f1-b395-4621-83c6-fe81ebe98704"
      },
      "outputs": [
        {
          "output_type": "execute_result",
          "data": {
            "text/plain": [
              "array([[1, 2, 3],\n",
              "       [4, 5, 6]])"
            ]
          },
          "metadata": {},
          "execution_count": 35
        }
      ],
      "source": [
        "a[:2]"
      ]
    },
    {
      "cell_type": "code",
      "execution_count": null,
      "metadata": {
        "colab": {
          "base_uri": "https://localhost:8080/"
        },
        "id": "xwQ4DdGmJZxe",
        "outputId": "4bc2766b-4c6c-4db1-83d6-892eb312f698"
      },
      "outputs": [
        {
          "output_type": "execute_result",
          "data": {
            "text/plain": [
              "8"
            ]
          },
          "metadata": {},
          "execution_count": 36
        }
      ],
      "source": [
        "a[2][1]"
      ]
    },
    {
      "cell_type": "code",
      "execution_count": null,
      "metadata": {
        "colab": {
          "base_uri": "https://localhost:8080/"
        },
        "id": "Q2Ok60ZNJZxe",
        "outputId": "386f8631-ef60-417a-a609-9d8265e5421f"
      },
      "outputs": [
        {
          "output_type": "execute_result",
          "data": {
            "text/plain": [
              "8"
            ]
          },
          "metadata": {},
          "execution_count": 37
        }
      ],
      "source": [
        "a[2,1]"
      ]
    },
    {
      "cell_type": "code",
      "execution_count": null,
      "metadata": {
        "colab": {
          "base_uri": "https://localhost:8080/"
        },
        "id": "QOtyjA9nJZxe",
        "outputId": "64b46d1d-7872-4815-d430-0d2f6642221c"
      },
      "outputs": [
        {
          "output_type": "execute_result",
          "data": {
            "text/plain": [
              "array([[1, 2, 3],\n",
              "       [7, 8, 9]])"
            ]
          },
          "metadata": {},
          "execution_count": 38
        }
      ],
      "source": [
        "a[[0,2]]"
      ]
    },
    {
      "cell_type": "code",
      "execution_count": null,
      "metadata": {
        "colab": {
          "base_uri": "https://localhost:8080/"
        },
        "id": "0wktbGW3JZxe",
        "outputId": "96308443-63bc-4a43-d6f3-33b7ca47df9d"
      },
      "outputs": [
        {
          "output_type": "execute_result",
          "data": {
            "text/plain": [
              "array([[5, 6],\n",
              "       [8, 9]])"
            ]
          },
          "metadata": {},
          "execution_count": 39
        }
      ],
      "source": [
        "a[1:,1:]"
      ]
    },
    {
      "cell_type": "markdown",
      "metadata": {
        "id": "NJQP0Z4yJZxe"
      },
      "source": [
        "Fancy indexing:"
      ]
    },
    {
      "cell_type": "code",
      "execution_count": null,
      "metadata": {
        "colab": {
          "base_uri": "https://localhost:8080/"
        },
        "id": "P6ELnf10JZxe",
        "outputId": "8570983f-b369-4090-cfe6-b45cf9b71e49"
      },
      "outputs": [
        {
          "output_type": "execute_result",
          "data": {
            "text/plain": [
              "array([ 0,  5, 10, 15, 20, 25, 30, 35, 40, 45, 50, 55, 60, 65, 70, 75, 80,\n",
              "       85, 90, 95])"
            ]
          },
          "metadata": {},
          "execution_count": 40
        }
      ],
      "source": [
        "arr = np.arange(100)\n",
        "arrMask = ( (arr % 5) == 0 ) \n",
        "arr[arrMask]"
      ]
    },
    {
      "cell_type": "code",
      "execution_count": null,
      "metadata": {
        "colab": {
          "base_uri": "https://localhost:8080/"
        },
        "id": "2Rzn835EJZxf",
        "outputId": "5f235453-3308-44e7-8c3e-213263fb9e9b"
      },
      "outputs": [
        {
          "output_type": "execute_result",
          "data": {
            "text/plain": [
              "array([ 5, 10, 15, 20, 25, 30, 35, 40, 45, 50, 55, 60, 65, 70, 75, 80, 85,\n",
              "       90, 95])"
            ]
          },
          "metadata": {},
          "execution_count": 41
        }
      ],
      "source": [
        "arrMask = ( ( (arr % 5) == 0 )  & ( arr >0) )\n",
        "arr[arrMask]"
      ]
    },
    {
      "cell_type": "markdown",
      "metadata": {
        "id": "vH0tyjZ5JZxf"
      },
      "source": [
        "#### 1.4. NumPy attributes and reshaping:"
      ]
    },
    {
      "cell_type": "code",
      "execution_count": null,
      "metadata": {
        "colab": {
          "base_uri": "https://localhost:8080/"
        },
        "id": "5vhm_hvUJZxf",
        "outputId": "796b384e-7685-4ab9-ff9e-2979de4d5c8c"
      },
      "outputs": [
        {
          "output_type": "execute_result",
          "data": {
            "text/plain": [
              "9"
            ]
          },
          "metadata": {},
          "execution_count": 42
        }
      ],
      "source": [
        "a.size"
      ]
    },
    {
      "cell_type": "code",
      "execution_count": null,
      "metadata": {
        "colab": {
          "base_uri": "https://localhost:8080/"
        },
        "id": "4CJ9sRhkJZxf",
        "outputId": "de37337f-4f8c-4d95-a46a-05db87d6e6e1"
      },
      "outputs": [
        {
          "output_type": "execute_result",
          "data": {
            "text/plain": [
              "(3, 3)"
            ]
          },
          "metadata": {},
          "execution_count": 43
        }
      ],
      "source": [
        "a.shape"
      ]
    },
    {
      "cell_type": "code",
      "execution_count": null,
      "metadata": {
        "colab": {
          "base_uri": "https://localhost:8080/"
        },
        "id": "5FS5dyymJZxf",
        "outputId": "5379b980-03fa-4e41-df35-98da06dd1f05"
      },
      "outputs": [
        {
          "output_type": "execute_result",
          "data": {
            "text/plain": [
              "2"
            ]
          },
          "metadata": {},
          "execution_count": 44
        }
      ],
      "source": [
        "a.ndim"
      ]
    },
    {
      "cell_type": "markdown",
      "metadata": {
        "id": "yuzgs_2bJZxf"
      },
      "source": [
        "Change the shape with reshape() method:"
      ]
    },
    {
      "cell_type": "code",
      "execution_count": null,
      "metadata": {
        "colab": {
          "base_uri": "https://localhost:8080/"
        },
        "id": "jnch635xJZxf",
        "outputId": "ed54d194-1f35-4823-aca2-e6fbed2c7534"
      },
      "outputs": [
        {
          "output_type": "execute_result",
          "data": {
            "text/plain": [
              "array([[ 0,  1,  2,  3,  4],\n",
              "       [ 5,  6,  7,  8,  9],\n",
              "       [10, 11, 12, 13, 14]])"
            ]
          },
          "metadata": {},
          "execution_count": 45
        }
      ],
      "source": [
        "a = np.arange(15)\n",
        "a.reshape(3,5)"
      ]
    },
    {
      "cell_type": "code",
      "execution_count": null,
      "metadata": {
        "colab": {
          "base_uri": "https://localhost:8080/"
        },
        "id": "g-TS09ASJZxg",
        "outputId": "f81d0d54-a88f-4196-c5af-af154bf60903"
      },
      "outputs": [
        {
          "output_type": "execute_result",
          "data": {
            "text/plain": [
              "array([ 0,  1,  2,  3,  4,  5,  6,  7,  8,  9, 10, 11, 12, 13, 14])"
            ]
          },
          "metadata": {},
          "execution_count": 46
        }
      ],
      "source": [
        "# reshape() just produced a 'view'.\n",
        "# So, there is no permanent change to 'a'.\n",
        "a"
      ]
    },
    {
      "cell_type": "code",
      "execution_count": null,
      "metadata": {
        "colab": {
          "base_uri": "https://localhost:8080/"
        },
        "id": "g7k0EmhRJZxg",
        "outputId": "fa65579a-408c-47f2-e87a-e6716e6263f6"
      },
      "outputs": [
        {
          "output_type": "execute_result",
          "data": {
            "text/plain": [
              "array([[ 0,  1,  2,  3,  4],\n",
              "       [ 5,  6,  7,  8,  9],\n",
              "       [10, 11, 12, 13, 14]])"
            ]
          },
          "metadata": {},
          "execution_count": 47
        }
      ],
      "source": [
        "a = a.reshape(3,5)\n",
        "a"
      ]
    },
    {
      "cell_type": "code",
      "execution_count": null,
      "metadata": {
        "colab": {
          "base_uri": "https://localhost:8080/"
        },
        "id": "FGYLp_n-JZxg",
        "outputId": "1063f599-6139-437a-e11a-4d5039ea2816"
      },
      "outputs": [
        {
          "output_type": "execute_result",
          "data": {
            "text/plain": [
              "(4,)"
            ]
          },
          "metadata": {},
          "execution_count": 48
        }
      ],
      "source": [
        "a = np.array([2,5,1,3])\n",
        "a.shape"
      ]
    },
    {
      "cell_type": "code",
      "execution_count": null,
      "metadata": {
        "colab": {
          "base_uri": "https://localhost:8080/"
        },
        "id": "sKlfrAuyJZxg",
        "outputId": "09f6a2fd-e3df-4dd0-83a8-6ae4d5945616"
      },
      "outputs": [
        {
          "output_type": "execute_result",
          "data": {
            "text/plain": [
              "array([[2, 5],\n",
              "       [1, 3]])"
            ]
          },
          "metadata": {},
          "execution_count": 49
        }
      ],
      "source": [
        "a = a.reshape((2,2))\n",
        "a"
      ]
    },
    {
      "cell_type": "markdown",
      "metadata": {
        "id": "dhZNUWNUJZxg"
      },
      "source": [
        "Careful that the reshape() method does not create a new object!"
      ]
    },
    {
      "cell_type": "code",
      "execution_count": null,
      "metadata": {
        "id": "3Z5e53c3JZxg"
      },
      "outputs": [],
      "source": [
        "a = np.arange(10)\n",
        "b = a.reshape(2,5)\n",
        "a[0] = -999"
      ]
    },
    {
      "cell_type": "code",
      "execution_count": null,
      "metadata": {
        "colab": {
          "base_uri": "https://localhost:8080/"
        },
        "id": "OtVQ8jh5JZxg",
        "outputId": "cff22bb0-50bc-4039-8328-f24c395eadac"
      },
      "outputs": [
        {
          "output_type": "execute_result",
          "data": {
            "text/plain": [
              "array([[-999,    1,    2,    3,    4],\n",
              "       [   5,    6,    7,    8,    9]])"
            ]
          },
          "metadata": {},
          "execution_count": 51
        }
      ],
      "source": [
        "b"
      ]
    },
    {
      "cell_type": "code",
      "execution_count": null,
      "metadata": {
        "colab": {
          "base_uri": "https://localhost:8080/"
        },
        "id": "ncmBTfFgJZxg",
        "outputId": "c0e79ea4-4f56-4cde-a590-8490a3bf07cb"
      },
      "outputs": [
        {
          "output_type": "execute_result",
          "data": {
            "text/plain": [
              "array([-999,    1,    2,    3,    4,    5,    6,    7,    8,    9])"
            ]
          },
          "metadata": {},
          "execution_count": 52
        }
      ],
      "source": [
        "# Make a copy in order to create a new object.\n",
        "c = a.reshape(2,5).copy()\n",
        "c[0,0] = 0\n",
        "a"
      ]
    },
    {
      "cell_type": "markdown",
      "metadata": {
        "id": "kxIyHTb7JZxg"
      },
      "source": [
        "#### 1.5. Modifying NumPy arrays:"
      ]
    },
    {
      "cell_type": "markdown",
      "metadata": {
        "id": "RdpFbX2uJZxh"
      },
      "source": [
        "Appending elements, rows and columns to arrays:"
      ]
    },
    {
      "cell_type": "code",
      "execution_count": null,
      "metadata": {
        "colab": {
          "base_uri": "https://localhost:8080/"
        },
        "id": "N_spg89FJZxh",
        "outputId": "36f6d645-e959-4eb9-d4b3-682faff667fe"
      },
      "outputs": [
        {
          "output_type": "execute_result",
          "data": {
            "text/plain": [
              "array([1, 2, 3, 4, 5, 6])"
            ]
          },
          "metadata": {},
          "execution_count": 53
        }
      ],
      "source": [
        "a = np.array([1, 2, 3])\n",
        "b = np.append(a, [4, 5, 6])\n",
        "b"
      ]
    },
    {
      "cell_type": "code",
      "execution_count": null,
      "metadata": {
        "colab": {
          "base_uri": "https://localhost:8080/"
        },
        "id": "10i6QhWpJZxh",
        "outputId": "33ef37dc-2b20-459f-e06a-4317ab9c2eb8"
      },
      "outputs": [
        {
          "output_type": "execute_result",
          "data": {
            "text/plain": [
              "array([[1, 2],\n",
              "       [3, 4],\n",
              "       [9, 9]])"
            ]
          },
          "metadata": {},
          "execution_count": 54
        }
      ],
      "source": [
        "a = np.array([[1, 2], [3, 4]])\n",
        "b = np.append(a, [[9, 9]], axis=0)\n",
        "b"
      ]
    },
    {
      "cell_type": "code",
      "execution_count": null,
      "metadata": {
        "colab": {
          "base_uri": "https://localhost:8080/"
        },
        "id": "oGk6dIdeJZxh",
        "outputId": "5f85fc05-9ab2-49dc-acd6-7cbff1ebcd7a"
      },
      "outputs": [
        {
          "output_type": "execute_result",
          "data": {
            "text/plain": [
              "array([[1, 2, 9],\n",
              "       [3, 4, 9]])"
            ]
          },
          "metadata": {},
          "execution_count": 55
        }
      ],
      "source": [
        "c = np.append(a, [[9], [9]] , axis=1)\n",
        "c"
      ]
    },
    {
      "cell_type": "markdown",
      "metadata": {
        "id": "hMHWBEriJZxh"
      },
      "source": [
        "Deleting array elements, rows and columns:"
      ]
    },
    {
      "cell_type": "code",
      "execution_count": null,
      "metadata": {
        "colab": {
          "base_uri": "https://localhost:8080/"
        },
        "id": "nuKufTSuJZxi",
        "outputId": "6ce410c1-bebe-4d4c-b232-e1ae40a882f7"
      },
      "outputs": [
        {
          "output_type": "execute_result",
          "data": {
            "text/plain": [
              "array([2, 3, 4, 5, 6])"
            ]
          },
          "metadata": {},
          "execution_count": 56
        }
      ],
      "source": [
        "a = np.array([[1, 2, 3],[4, 5, 6]])\n",
        "np.delete(a, 0)"
      ]
    },
    {
      "cell_type": "code",
      "execution_count": null,
      "metadata": {
        "colab": {
          "base_uri": "https://localhost:8080/"
        },
        "id": "8zvcqmk5JZxi",
        "outputId": "fba1f1f3-bd13-41a3-8aea-6ce8b5c318a7"
      },
      "outputs": [
        {
          "output_type": "execute_result",
          "data": {
            "text/plain": [
              "array([2, 4, 6])"
            ]
          },
          "metadata": {},
          "execution_count": 57
        }
      ],
      "source": [
        "np.delete(a, (0, 2, 4))"
      ]
    },
    {
      "cell_type": "code",
      "execution_count": null,
      "metadata": {
        "colab": {
          "base_uri": "https://localhost:8080/"
        },
        "id": "T37q9WSZJZxi",
        "outputId": "a15cc4e6-8f88-4af5-849f-fd7b64e4177e"
      },
      "outputs": [
        {
          "output_type": "execute_result",
          "data": {
            "text/plain": [
              "array([[4, 5, 6]])"
            ]
          },
          "metadata": {},
          "execution_count": 58
        }
      ],
      "source": [
        "np.delete(a, 0, axis = 0)"
      ]
    },
    {
      "cell_type": "code",
      "execution_count": null,
      "metadata": {
        "colab": {
          "base_uri": "https://localhost:8080/"
        },
        "id": "ebLLng7BJZxi",
        "outputId": "378deefc-29d3-4065-ed9c-00583293841e"
      },
      "outputs": [
        {
          "output_type": "execute_result",
          "data": {
            "text/plain": [
              "array([[1, 3],\n",
              "       [4, 6]])"
            ]
          },
          "metadata": {},
          "execution_count": 59
        }
      ],
      "source": [
        "np.delete(a, 1, axis = 1)"
      ]
    },
    {
      "cell_type": "markdown",
      "source": [
        "#### 1.5. : Creating arrays with iterables\n",
        "\n"
      ],
      "metadata": {
        "id": "1waMrfSsaLVr"
      }
    },
    {
      "cell_type": "markdown",
      "source": [
        "Lets start with sets"
      ],
      "metadata": {
        "id": "2Ix1j4R3dtIa"
      }
    },
    {
      "cell_type": "code",
      "execution_count": null,
      "metadata": {
        "colab": {
          "base_uri": "https://localhost:8080/"
        },
        "id": "o14yUOPbJZxi",
        "outputId": "63cb0649-76e4-4249-a6c3-895085dca025"
      },
      "outputs": [
        {
          "output_type": "execute_result",
          "data": {
            "text/plain": [
              "(array({1, 4, 5}, dtype=object), ())"
            ]
          },
          "metadata": {},
          "execution_count": 75
        }
      ],
      "source": [
        "set_array = np.array({1, 4, 5})\n",
        "#even if creates an array, but the type of element is object, the array has no shape\n",
        "set_array, set_array.shape"
      ]
    },
    {
      "cell_type": "code",
      "source": [
        "#so if we try to access an element with an index\n",
        "set_array[0]\n",
        "#this is will be an error\n"
      ],
      "metadata": {
        "id": "QBywh-XwZmWd"
      },
      "execution_count": null,
      "outputs": []
    },
    {
      "cell_type": "code",
      "source": [
        "#we can change that by converting the set to list/tuple\n",
        "set_array = np.array(list({1, 4, 5}))\n",
        "set_array"
      ],
      "metadata": {
        "colab": {
          "base_uri": "https://localhost:8080/"
        },
        "id": "5jFDIicRZjD6",
        "outputId": "d8e4abf6-f04d-4866-aba8-6281104bb93f"
      },
      "execution_count": null,
      "outputs": [
        {
          "output_type": "execute_result",
          "data": {
            "text/plain": [
              "array([1, 4, 5])"
            ]
          },
          "metadata": {},
          "execution_count": 83
        }
      ]
    },
    {
      "cell_type": "code",
      "source": [
        "#or we can directly use the fromiter function (from iterable)\n",
        "np.fromiter({1, 4, 5}, int)"
      ],
      "metadata": {
        "colab": {
          "base_uri": "https://localhost:8080/"
        },
        "id": "ZyEUp9pcZaw1",
        "outputId": "a0992d2f-4ea2-4c88-efd3-352880405865"
      },
      "execution_count": null,
      "outputs": [
        {
          "output_type": "execute_result",
          "data": {
            "text/plain": [
              "array([1, 4, 5])"
            ]
          },
          "metadata": {},
          "execution_count": 85
        }
      ]
    },
    {
      "cell_type": "markdown",
      "source": [
        "Lest now try dictionnaries"
      ],
      "metadata": {
        "id": "FZM6VD9Edxaf"
      }
    },
    {
      "cell_type": "code",
      "source": [
        "set_array = np.array({'one':1, 'four':4, 'five':5})\n",
        "set_array"
      ],
      "metadata": {
        "colab": {
          "base_uri": "https://localhost:8080/"
        },
        "id": "rehnLUd4dro_",
        "outputId": "108d579e-72db-4171-d9d8-7cb7b789d8a2"
      },
      "execution_count": null,
      "outputs": [
        {
          "output_type": "execute_result",
          "data": {
            "text/plain": [
              "array({'one': 1, 'four': 4, 'five': 5}, dtype=object)"
            ]
          },
          "metadata": {},
          "execution_count": 87
        }
      ]
    },
    {
      "cell_type": "code",
      "source": [
        "np.fromiter({'one':1, 'four':4, 'five':5}, int)\n",
        "#This will generate an error, because we specified the int type"
      ],
      "metadata": {
        "id": "WqWuz_kOef3Y"
      },
      "execution_count": null,
      "outputs": []
    },
    {
      "cell_type": "code",
      "source": [
        "dict_array = np.fromiter({0:1, 1:4, 7:5}, int)\n",
        "dict_array\n",
        "#this will only create an array of keys"
      ],
      "metadata": {
        "colab": {
          "base_uri": "https://localhost:8080/"
        },
        "id": "JN9LKGp2eTGc",
        "outputId": "235ce139-eb44-4e30-aa18-7de698accb5e"
      },
      "execution_count": null,
      "outputs": [
        {
          "output_type": "execute_result",
          "data": {
            "text/plain": [
              "array([0, 1, 7])"
            ]
          },
          "metadata": {},
          "execution_count": 91
        }
      ]
    },
    {
      "cell_type": "code",
      "source": [
        "dict_array"
      ],
      "metadata": {
        "id": "WdkB9WoJeskS"
      },
      "execution_count": null,
      "outputs": []
    }
  ],
  "metadata": {
    "kernelspec": {
      "display_name": "Python 3",
      "language": "python",
      "name": "python3"
    },
    "language_info": {
      "codemirror_mode": {
        "name": "ipython",
        "version": 3
      },
      "file_extension": ".py",
      "mimetype": "text/x-python",
      "name": "python",
      "nbconvert_exporter": "python",
      "pygments_lexer": "ipython3",
      "version": "3.8.8"
    },
    "colab": {
      "name": "1. ex_0101.ipynb",
      "provenance": [],
      "collapsed_sections": []
    }
  },
  "nbformat": 4,
  "nbformat_minor": 0
}